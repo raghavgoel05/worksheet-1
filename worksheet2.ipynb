{
  "cells": [
    {
      "cell_type": "code",
      "execution_count": 1,
      "metadata": {
        "id": "fzflPisDwDJg"
      },
      "outputs": [],
      "source": [
        "Lst = [11, 12, 13, 14]\n",
        "\n",
        "# (i) Add 50 and 60 to Lstst\n",
        "Lst.append(50)\n",
        "Lst.append(60)\n",
        "\n",
        "# (ii) Remove 11 and 13 from Lst\n",
        "Lst.remove(11)\n",
        "Lst.remove(13)\n",
        "\n",
        "# (iii) Sort Lst in ascending order\n",
        "Lst.sort()\n",
        "\n",
        "# (iv) Sort Lst in descending order\n",
        "Lst.sort(reverse=True)\n",
        "\n",
        "# (v) Search for 13 in Lst\n",
        "found = 13 in Lst\n",
        "\n",
        "# (vi) Count the number of elements in Lst\n",
        "count = len(Lst)\n",
        "\n",
        "# (vii) Sum all the elements in Lst\n",
        "total_sum = sum(Lst)\n",
        "\n",
        "# (viii) Sum all odd numbers in Lst\n",
        "odd_sum = sum(x for x in Lst if x % 2 != 0)\n",
        "\n",
        "# (ix) Sum all even numbers in Lst\n",
        "even_sum = sum(x for x in Lst if x % 2 == 0)\n",
        "\n",
        "# (x) Sum all prime numbers in Lst\n",
        "def is_prime(n):\n",
        "    if n < 2:\n",
        "        return False\n",
        "    for i in range(2, int(n**0.5) + 1):\n",
        "        if n % i == 0:\n",
        "            return False\n",
        "    return True\n",
        "\n",
        "prime_sum = sum(x for x in Lst if is_prime(x))\n",
        "\n",
        "# (xi) Clear all the elements in Lst\n",
        "Lst.clear()\n",
        "\n",
        "# (xii) Delete Lst\n",
        "del Lst\n"
      ]
    },
    {
      "cell_type": "code",
      "execution_count": 2,
      "metadata": {
        "colab": {
          "base_uri": "https://localhost:8080/"
        },
        "id": "8vmzVMGYwR0M",
        "outputId": "bf942ac2-2b65-419e-e1fd-87d7e55c55d2"
      },
      "outputs": [
        {
          "name": "stdout",
          "output_type": "stream",
          "text": [
            "15\n"
          ]
        }
      ],
      "source": [
        "numbers = [1, 2, 3, 4, 5]\n",
        "total_sum = 0\n",
        "for num in numbers:\n",
        "    total_sum += num\n",
        "print(total_sum)\n"
      ]
    },
    {
      "cell_type": "code",
      "execution_count": 3,
      "metadata": {
        "colab": {
          "base_uri": "https://localhost:8080/"
        },
        "id": "1uQFqeIWwUUn",
        "outputId": "ff31748c-a784-48c5-9772-1c206f6973a8"
      },
      "outputs": [
        {
          "name": "stdout",
          "output_type": "stream",
          "text": [
            "24\n"
          ]
        }
      ],
      "source": [
        "numbers = [1, 2, 3, 4]\n",
        "product = 1\n",
        "for num in numbers:\n",
        "    product *= num\n",
        "print(product)\n"
      ]
    },
    {
      "cell_type": "code",
      "execution_count": 4,
      "metadata": {
        "colab": {
          "base_uri": "https://localhost:8080/"
        },
        "id": "S-vPrEsswV6g",
        "outputId": "7b5ccecd-081e-4f46-b3e5-cdfdac52a8ab"
      },
      "outputs": [
        {
          "name": "stdout",
          "output_type": "stream",
          "text": [
            "[[['*', '*', '*', '*', '*', '*'], ['*', '*', '*', '*', '*', '*'], ['*', '*', '*', '*', '*', '*'], ['*', '*', '*', '*', '*', '*']], [['*', '*', '*', '*', '*', '*'], ['*', '*', '*', '*', '*', '*'], ['*', '*', '*', '*', '*', '*'], ['*', '*', '*', '*', '*', '*']], [['*', '*', '*', '*', '*', '*'], ['*', '*', '*', '*', '*', '*'], ['*', '*', '*', '*', '*', '*'], ['*', '*', '*', '*', '*', '*']]]\n"
          ]
        }
      ],
      "source": [
        "array = [[['*' for _ in range(6)] for _ in range(4)] for _ in range(3)]\n",
        "print(array)\n"
      ]
    },
    {
      "cell_type": "code",
      "execution_count": 19,
      "metadata": {
        "id": "iq4zxrRLwXdD"
      },
      "outputs": [],
      "source": [
        "D = {1: 5.6, 2: 7.8, 3: 6.6, 4: 8.7, 5: 7.7}\n",
        "\n",
        "# (i) Add new entry key=8, value=8.8\n",
        "D[8] = 8.8\n",
        "\n",
        "# (ii) Remove key=2\n",
        "D.pop(2)\n",
        "\n",
        "# (iii) Check whether key 6 is present\n",
        "key_exists = 6 in D\n",
        "\n",
        "# (iv) Count the number of elements present in D\n",
        "count = len(D)\n",
        "\n",
        "# (v) Sum all the values present in D\n",
        "total_sum = sum(D.values())\n",
        "\n",
        "# (vi) Update the value of key 3 to 7.1\n",
        "D[3] = 7.1\n",
        "\n",
        "# (vii) Clear the dictionary\n",
        "D.clear()\n",
        "\n"
      ]
    },
    {
      "cell_type": "code",
      "execution_count": 20,
      "metadata": {
        "id": "ByM0lgQJwZHV"
      },
      "outputs": [],
      "source": [
        "S1 = {10, 20, 30, 40, 50, 60}\n",
        "S2 = {40, 50, 60, 70, 80, 90}\n",
        "\n",
        "# (i) Add 55 and 66 in Set S1\n",
        "S1.update([55, 66])\n",
        "\n",
        "# (ii) Remove 10 and 30 from Set S1\n",
        "S1.discard(10)\n",
        "S1.discard(30)\n",
        "\n",
        "# (iii) Check whether 40 is present in S1\n",
        "is_present = 40 in S1\n",
        "\n",
        "# (iv) Find the union of S1 and S2\n",
        "uni = S1.union(S2)\n",
        "\n",
        "# (v) Find the intersection between S1 and S2\n",
        "inter= S1.intersection(S2)\n",
        "\n",
        "# (vi) Find the difference S1 - S2\n",
        "dif = S1.difference(S2)\n"
      ]
    },
    {
      "cell_type": "code",
      "execution_count": 2,
      "metadata": {
        "colab": {
          "base_uri": "https://localhost:8080/"
        },
        "id": "UmXZWBlRyY1O",
        "outputId": "4615e246-e0ab-4823-d694-d6e0ce670e32"
      },
      "outputs": [
        {
          "name": "stdout",
          "output_type": "stream",
          "text": [
            "GuNZmM\n",
            "bzttwidx\n",
            "NLfGjUo\n",
            "DMrEcr\n",
            "svCMWMt\n",
            "gemhRca\n",
            "rFwPXix\n",
            "ndCeJTgt\n",
            "LzXtpY\n",
            "cnvNUuW\n",
            "eCBhtJn\n",
            "tMFIdgu\n",
            "iflFtk\n",
            "YvqWrig\n",
            "ioPFwoN\n",
            "WnxRIT\n",
            "oGvFFfn\n",
            "OHBTJm\n",
            "QKJyDV\n",
            "xGakaA\n",
            "gmgBwH\n",
            "ZlaDhKeP\n",
            "qTlbkBbL\n",
            "kNGSuh\n",
            "VHkfwDc\n",
            "xAtegh\n",
            "lTbqle\n",
            "PcaSwDe\n",
            "vfjEIxQb\n",
            "IRguAEfn\n",
            "tAEAJvs\n",
            "NIjaRkk\n",
            "wzBOZnX\n",
            "OENLOXTF\n",
            "NZWvrbl\n",
            "Xazjlu\n",
            "btDFKIn\n",
            "YUIzYY\n",
            "zgETGRcS\n",
            "JfuOuBAa\n",
            "MRQbSh\n",
            "iQrYGv\n",
            "ADpjKSFV\n",
            "babfRbC\n",
            "jiIkpqe\n",
            "DzxnkJ\n",
            "IUlHLhVn\n",
            "okYxmTiP\n",
            "inyQyO\n",
            "QgClZWcQ\n",
            "BfkrXCf\n",
            "dLCeWRi\n",
            "yoEPtX\n",
            "zbkNivm\n",
            "HcIZMZ\n",
            "IMvRtK\n",
            "ktfsmFz\n",
            "hpgWOhsb\n",
            "VftjDH\n",
            "weXxRley\n",
            "JDFhdF\n",
            "CWPcAj\n",
            "CZXQEiFY\n",
            "hKfjla\n",
            "vbiXIscB\n",
            "UkiJiqxp\n",
            "aKyEWa\n",
            "zrJTfS\n",
            "ebqYJKTF\n",
            "XUmvuKU\n",
            "LLPpEgH\n",
            "kCjYcgv\n",
            "oQConObe\n",
            "kSJFJak\n",
            "qLWCWcd\n",
            "MHeHODXd\n",
            "qRdBKoyd\n",
            "RIrYlts\n",
            "AMrFqov\n",
            "WmmBYWK\n",
            "DFCPiVBh\n",
            "GECyVv\n",
            "iUNbvAM\n",
            "UDlPWaM\n",
            "JnLxgab\n",
            "UknNoUs\n",
            "ogFEHU\n",
            "pSqRcg\n",
            "JyNkGxmV\n",
            "jUroVZu\n",
            "JbufyMOq\n",
            "FELKtj\n",
            "tZbsAV\n",
            "FnfFsblW\n",
            "BpKMoff\n",
            "aDqAFuZV\n",
            "byHbjo\n",
            "nhDzKHTT\n",
            "cAPEXi\n",
            "IONZlZL\n",
            "601\n",
            "607\n",
            "613\n",
            "617\n",
            "619\n",
            "631\n",
            "641\n",
            "643\n",
            "647\n",
            "653\n",
            "659\n",
            "661\n",
            "673\n",
            "677\n",
            "683\n",
            "691\n",
            "701\n",
            "709\n",
            "719\n",
            "727\n",
            "733\n",
            "739\n",
            "743\n",
            "751\n",
            "757\n",
            "761\n",
            "769\n",
            "773\n",
            "787\n",
            "797\n",
            "126\n",
            "189\n",
            "252\n",
            "315\n",
            "378\n",
            "441\n",
            "504\n",
            "567\n",
            "630\n",
            "693\n",
            "756\n",
            "819\n",
            "882\n",
            "945\n"
          ]
        }
      ],
      "source": [
        "import random\n",
        "import string\n",
        "\n",
        "# (i) Print 100 random strings whose length is between 6 and 8\n",
        "for _ in range(100):\n",
        "    length = random.randint(6, 8)\n",
        "    random_string = ''.join(random.choices(string.ascii_letters, k=length))\n",
        "    print(random_string)\n",
        "\n",
        "# (ii) Print all prime numbers between 600 and 800\n",
        "start = 600\n",
        "end = 800\n",
        "for num in range(start, end + 1):\n",
        "    if num > 1:\n",
        "        is_prime = True\n",
        "        for i in range(2, int(num**0.5) + 1):\n",
        "            if num % i == 0:\n",
        "                is_prime = False\n",
        "                break\n",
        "        if is_prime:\n",
        "            print(num)\n",
        "\n",
        "# (iii) Print all numbers between 100 and 1000 that are divisible by 7 and 9\n",
        "for num in range(100, 1001):\n",
        "    if num % 7 == 0 and num % 9 == 0:\n",
        "        print(num)\n"
      ]
    },
    {
      "cell_type": "code",
      "execution_count": 4,
      "metadata": {
        "colab": {
          "base_uri": "https://localhost:8080/"
        },
        "id": "3UPpgucnyan4",
        "outputId": "4e86229d-9e17-478b-e68a-3dd41605ba42"
      },
      "outputs": [
        {
          "name": "stdout",
          "output_type": "stream",
          "text": [
            "The examination will start from: 11/12/2014\n"
          ]
        }
      ],
      "source": [
        "exam_date = (17, 9, 2024)\n",
        "print(f\"The examination will start from: {exam_date[0]}/{exam_date[1]}/{exam_date[2]}\")\n"
      ]
    },
    {
      "cell_type": "code",
      "execution_count": 9,
      "metadata": {
        "colab": {
          "base_uri": "https://localhost:8080/"
        },
        "id": "vp1I1VkZygab",
        "outputId": "da03f09a-c31c-4d00-8603-d29d21e723bf"
      },
      "outputs": [
        {
          "name": "stdout",
          "output_type": "stream",
          "text": [
            "10\n",
            "45\n",
            "50\n",
            "90\n"
          ]
        }
      ],
      "source": [
        "numbers = [10, 23, 45, 67, 50, 90]\n",
        "for num in numbers:\n",
        "    if num % 5 == 0:\n",
        "        print(num)\n"
      ]
    },
    {
      "cell_type": "code",
      "execution_count": 10,
      "metadata": {
        "colab": {
          "base_uri": "https://localhost:8080/"
        },
        "id": "-P9AeLkuyoo_",
        "outputId": "c661213d-435a-46d5-a848-aae5203e9e96"
      },
      "outputs": [
        {
          "name": "stdout",
          "output_type": "stream",
          "text": [
            "Enter a number: 5\n",
            "5 is odd.\n"
          ]
        }
      ],
      "source": [
        "num = int(input(\"Enter a number: \"))\n",
        "is_even = num % 2 == 0\n",
        "print(f\"{num} is {'even' if is_even else 'odd'}.\")\n"
      ]
    },
    {
      "cell_type": "code",
      "execution_count": 1,
      "metadata": {
        "colab": {
          "base_uri": "https://localhost:8080/"
        },
        "id": "RIzGdIbiyqSw",
        "outputId": "6c0d67bb-2230-42e9-a8cf-45ee2a0f6bee"
      },
      "outputs": [
        {
          "name": "stdout",
          "output_type": "stream",
          "text": [
            "a 3 times.\n"
          ]
        }
      ],
      "source": [
        "string = \"abcaca\"\n",
        "count = string.count(\"a\")\n",
        "print(\"a\", count, \"times.\")\n"
      ]
    },
    {
      "cell_type": "code",
      "execution_count": 12,
      "metadata": {
        "colab": {
          "base_uri": "https://localhost:8080/"
        },
        "id": "6I8EtjY9yuyY",
        "outputId": "3ba40149-e929-4b67-c1c8-3bd47d87483a"
      },
      "outputs": [
        {
          "name": "stdout",
          "output_type": "stream",
          "text": [
            "New list: [1, 3, 5, 7, 10, 12, 14, 16]\n"
          ]
        }
      ],
      "source": [
        "list1 = [1, 2, 3, 4, 5, 6, 7]\n",
        "list2 = [10, 11, 12, 13, 14, 15, 16]\n",
        "\n",
        "new_list = [x for x in list1 if x % 2 != 0] + [y for y in list2 if y % 2 == 0]\n",
        "print(\"New list:\", new_list)\n"
      ]
    },
    {
      "cell_type": "code",
      "execution_count": null,
      "metadata": {
        "id": "vB2mvCAqy-GY"
      },
      "outputs": [],
      "source": []
    }
  ],
  "metadata": {
    "colab": {
      "provenance": []
    },
    "kernelspec": {
      "display_name": "Python 3",
      "name": "python3"
    },
    "language_info": {
      "codemirror_mode": {
        "name": "ipython",
        "version": 3
      },
      "file_extension": ".py",
      "mimetype": "text/x-python",
      "name": "python",
      "nbconvert_exporter": "python",
      "pygments_lexer": "ipython3",
      "version": "3.12.1"
    }
  },
  "nbformat": 4,
  "nbformat_minor": 0
}
