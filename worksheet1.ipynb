{
  "cells": [
    {
      "cell_type": "code",
      "execution_count": null,
      "metadata": {
        "colab": {
          "base_uri": "https://localhost:8080/"
        },
        "id": "OaRS0C9oTVkZ",
        "outputId": "bef5651d-25b5-4d7b-f4eb-a5b3d148e5b9"
      },
      "outputs": [
        {
          "name": "stdout",
          "output_type": "stream",
          "text": [
            "Twinkle, twinkle, little star,\n",
            "\tHow I wonder what you are!\n",
            "\t\tUp above the world so high,\n",
            "\t\tLike a diamond in the sky.\n",
            "Twinkle, twinkle, little star,\n",
            "\tHow I wonder what you are!\n"
          ]
        }
      ],
      "source": [
        "print(\"Twinkle, twinkle, little star,\")\n",
        "print(\"\\tHow I wonder what you are!\")\n",
        "print(\"\\tUp above the world so high,\")\n",
        "print(\"\\tLike a diamond in the sky.\")\n",
        "print(\"Twinkle, twinkle, little star,\")\n",
        "print(\"\\tHow I wonder what you are!\")\n"
      ]
    },
    {
      "cell_type": "code",
      "execution_count": null,
      "metadata": {
        "colab": {
          "base_uri": "https://localhost:8080/"
        },
        "id": "8NagU6hETZ4l",
        "outputId": "63b0b9cd-ba8a-4b13-e58e-6bb84d273dc7"
      },
      "outputs": [
        {
          "name": "stdout",
          "output_type": "stream",
          "text": [
            "Enter your first name: mayank\n",
            "Enter your last name: bhadauria\n",
            "bhadauria mayank\n"
          ]
        }
      ],
      "source": [
        "first_name = input(\"Enter your first name: \")\n",
        "last_name = input(\"Enter your last name: \")\n",
        "print(last_name + \" \" + first_name)\n"
      ]
    },
    {
      "cell_type": "code",
      "execution_count": null,
      "metadata": {
        "colab": {
          "base_uri": "https://localhost:8080/"
        },
        "id": "pXA6TLQqUHGV",
        "outputId": "8f38d126-df00-4ca9-ca07-d999c10d83a6"
      },
      "outputs": [
        {
          "name": "stdout",
          "output_type": "stream",
          "text": [
            "Enter the radius of the circle: 5\n",
            "The area of the circle is: 78.53981633974483\n"
          ]
        }
      ],
      "source": [
        "import math\n",
        "\n",
        "radius = float(input(\"Enter the radius of the circle: \"))\n",
        "area = math.pi * (radius ** 2)\n",
        "print(\"The area of the circle is:\", area)\n"
      ]
    },
    {
      "cell_type": "code",
      "execution_count": null,
      "metadata": {
        "id": "q-P5wXjTTjzP"
      },
      "outputs": [],
      "source": [
        "color = [\"Red\", \"Green\", \"White\", \"Black\"]\n",
        "print(\"First color is:\", color[0])\n",
        "print(\"Last color is:\", color[-1])\n"
      ]
    },
    {
      "cell_type": "code",
      "execution_count": null,
      "metadata": {
        "colab": {
          "base_uri": "https://localhost:8080/"
        },
        "id": "ODDy3E1wT_oY",
        "outputId": "183ca111-4e13-4815-dbc0-86dfeef88f8e"
      },
      "outputs": [
        {
          "name": "stdout",
          "output_type": "stream",
          "text": [
            "Enter an integer: 5\n",
            "615\n"
          ]
        }
      ],
      "source": [
        "n = int(input(\"Enter an integer: \"))\n",
        "result = n + int(str(n)*2) + int(str(n)*3)\n",
        "print(result)\n"
      ]
    },
    {
      "cell_type": "code",
      "execution_count": null,
      "metadata": {
        "colab": {
          "base_uri": "https://localhost:8080/"
        },
        "id": "0hfjaLZaU_jy",
        "outputId": "59e63bcb-88e1-4b19-8a82-178b96a97c1d"
      },
      "outputs": [
        {
          "name": "stdout",
          "output_type": "stream",
          "text": [
            "Enter comma-separated numbers: 1\n",
            "List: ['1']\n",
            "Tuple: ('1',)\n"
          ]
        }
      ],
      "source": [
        "numbers = input(\"Enter numbers: \")\n",
        "list = numbers.split(\",\")\n",
        "tuple = tuple(num_list)\n",
        "print(\"List:\", num_list)\n",
        "print(\"Tuple:\", num_tuple)\n"
      ]
    },
    {
      "cell_type": "code",
      "execution_count": null,
      "metadata": {
        "colab": {
          "base_uri": "https://localhost:8080/"
        },
        "id": "-eMMvmZisjSn",
        "outputId": "c83779c7-bd08-4db4-8dad-0b150d478093"
      },
      "outputs": [
        {
          "name": "stdout",
          "output_type": "stream",
          "text": [
            "Enter temperature in Celsius: 50\n",
            "Temperature in Fahrenheit is: 122.0\n"
          ]
        }
      ],
      "source": [
        "celsius = float(input(\"Enter temperature in Celsius: \"))\n",
        "fahrenheit = (celsius * 9/5) + 32\n",
        "print(\"Temperature in Fahrenheit is:\", fahrenheit)\n"
      ]
    },
    {
      "cell_type": "code",
      "execution_count": null,
      "metadata": {
        "colab": {
          "base_uri": "https://localhost:8080/"
        },
        "id": "Y3k2-PHyswEj",
        "outputId": "ef9bfe30-12cd-4eca-f6fd-86f6256ed6b3"
      },
      "outputs": [
        {
          "name": "stdout",
          "output_type": "stream",
          "text": [
            "Enter first number: 4\n",
            "Enter second number: 5\n",
            "After swapping and incrementing:\n",
            "First number: 6\n",
            "Second number: 4\n"
          ]
        }
      ],
      "source": [
        "a = int(input(\"Enter first number: \"))\n",
        "b = int(input(\"Enter second number: \"))\n",
        "\n",
        "# Swap\n",
        "a, b = b, a\n",
        "\n",
        "# Increment one variable (let's increment 'a')\n",
        "a += 1\n",
        "\n",
        "print(\"After swapping and incrementing:\")\n",
        "print(\"First number:\", a)\n",
        "print(\"Second number:\", b)\n"
      ]
    },
    {
      "cell_type": "code",
      "execution_count": null,
      "metadata": {
        "colab": {
          "base_uri": "https://localhost:8080/"
        },
        "id": "TaUgF3s3syeZ",
        "outputId": "d99a0f7d-be36-4fa4-c490-960ef33316c8"
      },
      "outputs": [
        {
          "name": "stdout",
          "output_type": "stream",
          "text": [
            "Enter a number: 6\n",
            "6 is even.\n"
          ]
        }
      ],
      "source": [
        "num = int(input(\"Enter a number: \"))\n",
        "if num % 2 == 0:\n",
        "    print(num, \"is even.\")\n",
        "else:\n",
        "    print(num, \"is odd.\")\n"
      ]
    },
    {
      "cell_type": "code",
      "execution_count": null,
      "metadata": {
        "colab": {
          "base_uri": "https://localhost:8080/"
        },
        "id": "cQLYk6ihs0u_",
        "outputId": "4daaede5-2298-4a60-d8f5-84fcae317ba1"
      },
      "outputs": [
        {
          "name": "stdout",
          "output_type": "stream",
          "text": [
            "Enter a year: 1996\n",
            "1996 is a leap year.\n"
          ]
        }
      ],
      "source": [
        "year = int(input(\"Enter a year: \"))\n",
        "\n",
        "if (year % 4 == 0 and year % 100 != 0) or (year % 400 == 0):\n",
        "    print(year, \"is a leap year.\")\n",
        "else:\n",
        "    print(year, \"is not a leap year.\")\n"
      ]
    },
    {
      "cell_type": "code",
      "execution_count": null,
      "metadata": {
        "colab": {
          "base_uri": "https://localhost:8080/"
        },
        "id": "NeIpcOdOs2eg",
        "outputId": "eb5c93cb-69ae-47b4-e6a6-6992cf711428"
      },
      "outputs": [
        {
          "name": "stdout",
          "output_type": "stream",
          "text": [
            "Enter first coordinate (x1, y1): 5 6\n",
            "Enter second coordinate (x2, y2): 6 7\n",
            "The Euclidean distance is: 1.4142135623730951\n"
          ]
        }
      ],
      "source": [
        "import math\n",
        "\n",
        "x1, y1 = map(float, input(\"Enter first coordinate (x1, y1): \").split())\n",
        "x2, y2 = map(float, input(\"Enter second coordinate (x2, y2): \").split())\n",
        "\n",
        "distance = math.sqrt((x2 - x1)**2 + (y2 - y1)**2)\n",
        "print(\"The Euclidean distance is:\", distance)\n"
      ]
    },
    {
      "cell_type": "code",
      "execution_count": null,
      "metadata": {
        "colab": {
          "base_uri": "https://localhost:8080/"
        },
        "id": "tnmvYmHks4Um",
        "outputId": "1d3270db-216a-424c-e274-ba04dd9e6885"
      },
      "outputs": [
        {
          "name": "stdout",
          "output_type": "stream",
          "text": [
            "Enter first angle: 50\n",
            "Enter second angle: 60\n",
            "Enter third angle: 70\n",
            "The angles can form a triangle.\n"
          ]
        }
      ],
      "source": [
        "angle1 = float(input(\"Enter first angle: \"))\n",
        "angle2 = float(input(\"Enter second angle: \"))\n",
        "angle3 = float(input(\"Enter third angle: \"))\n",
        "\n",
        "if angle1 + angle2 + angle3 == 180:\n",
        "    print(\"The angles can form a triangle.\")\n",
        "else:\n",
        "    print(\"The angles cannot form a triangle.\")\n"
      ]
    },
    {
      "cell_type": "code",
      "execution_count": null,
      "metadata": {
        "colab": {
          "base_uri": "https://localhost:8080/"
        },
        "id": "HyOrrC26s8tT",
        "outputId": "4b73786f-f61c-4c64-d96a-97d5c64bfae9"
      },
      "outputs": [
        {
          "name": "stdout",
          "output_type": "stream",
          "text": [
            "Enter the principal amount: 10000\n",
            "Enter the rate of interest: 12\n",
            "Enter the time in years: 3\n",
            "Compound Interest is: 4049.2800000000043\n"
          ]
        }
      ],
      "source": [
        "principal = float(input(\"Enter the principal amount: \"))\n",
        "rate = float(input(\"Enter the rate of interest: \"))\n",
        "time = float(input(\"Enter the time in years: \"))\n",
        "compound_interest = principal * (1 + rate / 100) ** time - principal\n",
        "print(\"Compound Interest is:\", compound_interest)\n"
      ]
    },
    {
      "cell_type": "code",
      "execution_count": null,
      "metadata": {
        "colab": {
          "base_uri": "https://localhost:8080/"
        },
        "id": "WuhlE03BtBAO",
        "outputId": "259a4315-2ad2-46ff-804e-07b44324d1d8"
      },
      "outputs": [
        {
          "name": "stdout",
          "output_type": "stream",
          "text": [
            "Enter a positive integer: 7\n",
            "7 is a prime number.\n"
          ]
        }
      ],
      "source": [
        "num = int(input(\"Enter a positive integer: \"))\n",
        "\n",
        "if num > 1:\n",
        "    for i in range(2, int(num ** 0.5) + 1):\n",
        "        if num % i == 0:\n",
        "            print(num, \"is not a prime number.\")\n",
        "            break\n",
        "    else:\n",
        "        print(num, \"is a prime number.\")\n",
        "else:\n",
        "    print(num, \"is not a prime number.\")\n"
      ]
    },
    {
      "cell_type": "code",
      "execution_count": null,
      "metadata": {
        "colab": {
          "base_uri": "https://localhost:8080/"
        },
        "id": "wl1F1_JXtEIM",
        "outputId": "b171999d-4b4b-49fe-9e78-726b794ad51d"
      },
      "outputs": [
        {
          "name": "stdout",
          "output_type": "stream",
          "text": [
            "Enter a positive integer: 5\n",
            "Sum of squares is: 55\n"
          ]
        }
      ],
      "source": [
        "N = int(input(\"Enter a positive integer: \"))\n",
        "sum_of_squares = sum(i ** 2 for i in range(1, N + 1))\n",
        "print(\"Sum of squares is:\", sum_of_squares)\n"
      ]
    },
    {
      "cell_type": "code",
      "execution_count": null,
      "metadata": {
        "id": "HwLOuB0XtJ3U"
      },
      "outputs": [],
      "source": []
    }
  ],
  "metadata": {
    "colab": {
      "provenance": []
    },
    "kernelspec": {
      "display_name": "Python 3",
      "name": "python3"
    },
    "language_info": {
      "name": "python"
    }
  },
  "nbformat": 4,
  "nbformat_minor": 0
}
